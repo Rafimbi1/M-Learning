{
 "cells": [
  {
   "cell_type": "code",
   "execution_count": 2,
   "id": "ccc93212",
   "metadata": {},
   "outputs": [],
   "source": [
    "#building a simple library system to manage books using Python lists.\n",
    "books=[\"kifo kisimani\", \"waridi\", \"church mouse\"]"
   ]
  },
  {
   "cell_type": "code",
   "execution_count": 3,
   "id": "e750d68f",
   "metadata": {},
   "outputs": [],
   "source": [
    "#add Item at End\n",
    "books.append(\"publisher\")"
   ]
  },
  {
   "cell_type": "code",
   "execution_count": 5,
   "id": "5022d26b",
   "metadata": {},
   "outputs": [
    {
     "name": "stdout",
     "output_type": "stream",
     "text": [
      "['kifo kisimani', 'waridi', 'church mouse', 'publisher']\n"
     ]
    }
   ],
   "source": [
    "print(books)"
   ]
  },
  {
   "cell_type": "code",
   "execution_count": 6,
   "id": "0237a17d",
   "metadata": {},
   "outputs": [],
   "source": [
    "#add Multiple Items\n",
    "books.extend([\"the river\", \"bible\", \"town  trick sters\"])"
   ]
  },
  {
   "cell_type": "code",
   "execution_count": 7,
   "id": "07012f64",
   "metadata": {},
   "outputs": [
    {
     "name": "stdout",
     "output_type": "stream",
     "text": [
      "['kifo kisimani', 'waridi', 'church mouse', 'publisher', 'the river', 'bible', 'town  trick sters']\n"
     ]
    }
   ],
   "source": [
    "print(books)"
   ]
  },
  {
   "cell_type": "code",
   "execution_count": 8,
   "id": "c5ff2de6",
   "metadata": {},
   "outputs": [],
   "source": [
    "#insert \"the guide\" at position 2\n",
    "books.insert(2, \"the guide\")"
   ]
  },
  {
   "cell_type": "code",
   "execution_count": 9,
   "id": "46fa723f",
   "metadata": {},
   "outputs": [],
   "source": [
    "#remove the first \"waridi\"\n",
    "books.remove(\"waridi\")"
   ]
  },
  {
   "cell_type": "code",
   "execution_count": 10,
   "id": "e1e991a9",
   "metadata": {},
   "outputs": [
    {
     "name": "stdout",
     "output_type": "stream",
     "text": [
      "publisher\n"
     ]
    }
   ],
   "source": [
    "#retrieve the book at index 3\n",
    "print(books[3])"
   ]
  },
  {
   "cell_type": "code",
   "execution_count": 12,
   "id": "8bf81860",
   "metadata": {},
   "outputs": [
    {
     "name": "stdout",
     "output_type": "stream",
     "text": [
      "['kifo kisimani', 'the guide', 'church mouse', 'publisher', 'the river', 'bible', 'town  trick sters']\n"
     ]
    }
   ],
   "source": [
    "print(books)"
   ]
  },
  {
   "cell_type": "code",
   "execution_count": 15,
   "id": "bbbd6c4d",
   "metadata": {},
   "outputs": [],
   "source": [
    "#retrieve the book at index 3\n",
    "book_at_index_3 = books[3]"
   ]
  },
  {
   "cell_type": "code",
   "execution_count": 16,
   "id": "02a38612",
   "metadata": {},
   "outputs": [
    {
     "name": "stdout",
     "output_type": "stream",
     "text": [
      "Book at index 3: publisher\n"
     ]
    }
   ],
   "source": [
    "print(\"Book at index 3:\", book_at_index_3)"
   ]
  },
  {
   "cell_type": "code",
   "execution_count": 17,
   "id": "42a7389c",
   "metadata": {},
   "outputs": [
    {
     "name": "stdout",
     "output_type": "stream",
     "text": [
      "Sorted books: ['bible', 'church mouse', 'kifo kisimani', 'publisher', 'the guide', 'the river', 'town  trick sters']\n"
     ]
    }
   ],
   "source": [
    "#sort the books alphabetically\n",
    "books.sort()\n",
    "print(\"Sorted books:\", books)"
   ]
  },
  {
   "cell_type": "code",
   "execution_count": 18,
   "id": "8733d2a6",
   "metadata": {},
   "outputs": [
    {
     "name": "stdout",
     "output_type": "stream",
     "text": [
      "Books in reverse alphabetical order: ['town  trick sters', 'the river', 'the guide', 'publisher', 'kifo kisimani', 'church mouse', 'bible']\n"
     ]
    }
   ],
   "source": [
    "#reverse alphabetical order\n",
    "books.sort(reverse=True)\n",
    "print(\"Books in reverse alphabetical order:\", books)"
   ]
  }
 ],
 "metadata": {
  "kernelspec": {
   "display_name": "pandas_env",
   "language": "python",
   "name": "pandas_env"
  },
  "language_info": {
   "codemirror_mode": {
    "name": "ipython",
    "version": 3
   },
   "file_extension": ".py",
   "mimetype": "text/x-python",
   "name": "python",
   "nbconvert_exporter": "python",
   "pygments_lexer": "ipython3",
   "version": "3.13.3"
  }
 },
 "nbformat": 4,
 "nbformat_minor": 5
}
