{
 "cells": [
  {
   "cell_type": "code",
   "execution_count": 1,
   "id": "7d0de6f6",
   "metadata": {},
   "outputs": [],
   "source": [
    "import pandas as pd"
   ]
  },
  {
   "cell_type": "code",
   "execution_count": 2,
   "id": "07975e72",
   "metadata": {},
   "outputs": [],
   "source": [
    "import os"
   ]
  },
  {
   "cell_type": "code",
   "execution_count": 3,
   "id": "85650b65",
   "metadata": {},
   "outputs": [
    {
     "data": {
      "text/plain": [
       "'c:\\\\Users\\\\Rafimbi\\\\Documents\\\\RYDAMTAANI'"
      ]
     },
     "execution_count": 3,
     "metadata": {},
     "output_type": "execute_result"
    }
   ],
   "source": [
    "os.getcwd()"
   ]
  },
  {
   "cell_type": "code",
   "execution_count": 4,
   "id": "e63498f2",
   "metadata": {},
   "outputs": [],
   "source": [
    "os.chdir(\"C:\\\\Users\\\\Rafimbi\\\\Documents\\\\Python Projects\")"
   ]
  },
  {
   "cell_type": "code",
   "execution_count": 7,
   "id": "ce3b3b66",
   "metadata": {},
   "outputs": [],
   "source": [
    "simplelinear= pd.read_excel(\"Cashcropsdata.xlsx\")"
   ]
  },
  {
   "cell_type": "code",
   "execution_count": 8,
   "id": "5a429dba",
   "metadata": {},
   "outputs": [
    {
     "data": {
      "text/html": [
       "<div>\n",
       "<style scoped>\n",
       "    .dataframe tbody tr th:only-of-type {\n",
       "        vertical-align: middle;\n",
       "    }\n",
       "\n",
       "    .dataframe tbody tr th {\n",
       "        vertical-align: top;\n",
       "    }\n",
       "\n",
       "    .dataframe thead th {\n",
       "        text-align: right;\n",
       "    }\n",
       "</style>\n",
       "<table border=\"1\" class=\"dataframe\">\n",
       "  <thead>\n",
       "    <tr style=\"text-align: right;\">\n",
       "      <th></th>\n",
       "      <th>gender</th>\n",
       "      <th>value_chain</th>\n",
       "      <th>county</th>\n",
       "      <th>applied_for_agric_loan</th>\n",
       "      <th>hhsize</th>\n",
       "      <th>hh_income</th>\n",
       "      <th>total_land</th>\n",
       "      <th>fcs</th>\n",
       "    </tr>\n",
       "  </thead>\n",
       "  <tbody>\n",
       "    <tr>\n",
       "      <th>0</th>\n",
       "      <td>Male</td>\n",
       "      <td>Crop production</td>\n",
       "      <td>Embu</td>\n",
       "      <td>No</td>\n",
       "      <td>7</td>\n",
       "      <td>8000</td>\n",
       "      <td>1.00</td>\n",
       "      <td>65.5</td>\n",
       "    </tr>\n",
       "    <tr>\n",
       "      <th>1</th>\n",
       "      <td>Male</td>\n",
       "      <td>Milk and Livestock production</td>\n",
       "      <td>Kiambu</td>\n",
       "      <td>No</td>\n",
       "      <td>2</td>\n",
       "      <td>60000</td>\n",
       "      <td>2.00</td>\n",
       "      <td>81.0</td>\n",
       "    </tr>\n",
       "    <tr>\n",
       "      <th>2</th>\n",
       "      <td>Male</td>\n",
       "      <td>Crop production</td>\n",
       "      <td>Busia</td>\n",
       "      <td>No</td>\n",
       "      <td>7</td>\n",
       "      <td>10000</td>\n",
       "      <td>1.00</td>\n",
       "      <td>50.5</td>\n",
       "    </tr>\n",
       "    <tr>\n",
       "      <th>3</th>\n",
       "      <td>Female</td>\n",
       "      <td>Milk and Livestock production</td>\n",
       "      <td>Kiambu</td>\n",
       "      <td>Yes</td>\n",
       "      <td>2</td>\n",
       "      <td>20000</td>\n",
       "      <td>2.00</td>\n",
       "      <td>83.5</td>\n",
       "    </tr>\n",
       "    <tr>\n",
       "      <th>4</th>\n",
       "      <td>Male</td>\n",
       "      <td>Crop production</td>\n",
       "      <td>Embu</td>\n",
       "      <td>No</td>\n",
       "      <td>2</td>\n",
       "      <td>10000</td>\n",
       "      <td>0.25</td>\n",
       "      <td>36.0</td>\n",
       "    </tr>\n",
       "  </tbody>\n",
       "</table>\n",
       "</div>"
      ],
      "text/plain": [
       "   gender                    value_chain  county applied_for_agric_loan  \\\n",
       "0    Male                Crop production    Embu                     No   \n",
       "1    Male  Milk and Livestock production  Kiambu                     No   \n",
       "2    Male                Crop production   Busia                     No   \n",
       "3  Female  Milk and Livestock production  Kiambu                    Yes   \n",
       "4    Male                Crop production   Embu                      No   \n",
       "\n",
       "   hhsize  hh_income  total_land   fcs  \n",
       "0       7       8000        1.00  65.5  \n",
       "1       2      60000        2.00  81.0  \n",
       "2       7      10000        1.00  50.5  \n",
       "3       2      20000        2.00  83.5  \n",
       "4       2      10000        0.25  36.0  "
      ]
     },
     "execution_count": 8,
     "metadata": {},
     "output_type": "execute_result"
    }
   ],
   "source": [
    "simplelinear.head()"
   ]
  },
  {
   "cell_type": "code",
   "execution_count": 9,
   "id": "77721133",
   "metadata": {},
   "outputs": [],
   "source": [
    "import statsmodels.api as sm"
   ]
  },
  {
   "cell_type": "code",
   "execution_count": 10,
   "id": "09871b48",
   "metadata": {},
   "outputs": [
    {
     "name": "stdout",
     "output_type": "stream",
     "text": [
      "Requirement already satisfied: statsmodels in c:\\users\\rafimbi\\documents\\anaconda\\lib\\site-packages (0.14.2)\n",
      "Requirement already satisfied: numpy>=1.22.3 in c:\\users\\rafimbi\\documents\\anaconda\\lib\\site-packages (from statsmodels) (1.26.4)\n",
      "Requirement already satisfied: scipy!=1.9.2,>=1.8 in c:\\users\\rafimbi\\documents\\anaconda\\lib\\site-packages (from statsmodels) (1.13.1)\n",
      "Requirement already satisfied: pandas!=2.1.0,>=1.4 in c:\\users\\rafimbi\\documents\\anaconda\\lib\\site-packages (from statsmodels) (2.2.2)\n",
      "Requirement already satisfied: patsy>=0.5.6 in c:\\users\\rafimbi\\documents\\anaconda\\lib\\site-packages (from statsmodels) (0.5.6)\n",
      "Requirement already satisfied: packaging>=21.3 in c:\\users\\rafimbi\\documents\\anaconda\\lib\\site-packages (from statsmodels) (24.1)\n",
      "Requirement already satisfied: python-dateutil>=2.8.2 in c:\\users\\rafimbi\\documents\\anaconda\\lib\\site-packages (from pandas!=2.1.0,>=1.4->statsmodels) (2.9.0.post0)\n",
      "Requirement already satisfied: pytz>=2020.1 in c:\\users\\rafimbi\\documents\\anaconda\\lib\\site-packages (from pandas!=2.1.0,>=1.4->statsmodels) (2024.1)\n",
      "Requirement already satisfied: tzdata>=2022.7 in c:\\users\\rafimbi\\documents\\anaconda\\lib\\site-packages (from pandas!=2.1.0,>=1.4->statsmodels) (2023.3)\n",
      "Requirement already satisfied: six in c:\\users\\rafimbi\\documents\\anaconda\\lib\\site-packages (from patsy>=0.5.6->statsmodels) (1.16.0)\n"
     ]
    }
   ],
   "source": [
    "!pip install statsmodels"
   ]
  },
  {
   "cell_type": "code",
   "execution_count": 16,
   "id": "ca6eeeee",
   "metadata": {},
   "outputs": [],
   "source": [
    "import statsmodels.api as sm"
   ]
  },
  {
   "cell_type": "code",
   "execution_count": 20,
   "id": "d6b62fa1",
   "metadata": {},
   "outputs": [],
   "source": [
    "import statsmodels.formula.api as smf"
   ]
  },
  {
   "cell_type": "code",
   "execution_count": null,
   "id": "799ddfdb",
   "metadata": {},
   "outputs": [],
   "source": [
    "#ols → We’re doing Ordinary Least Squares regression (finding the best straight line).\n",
    "#'fcs ~ hh_income' → We want to predict fcs (dependent variable) using hh_income (independent variable).\n",
    "#fcs could be something like a score or outcome we measure.\n",
    "\n",
    "#hh_income is the household income.\n",
    "\n",
    "#data=simplelinear → These columns come from the DataFrame called simplelinear.\n",
    "\n",
    "# .fit() → Actually run the calculation to find the best-fitting line."
   ]
  },
  {
   "cell_type": "code",
   "execution_count": 21,
   "id": "7a22d7f3",
   "metadata": {},
   "outputs": [],
   "source": [
    "model = smf.ols('fcs ~ hh_income', data=simplelinear).fit()"
   ]
  },
  {
   "cell_type": "code",
   "execution_count": null,
   "id": "03869bc4",
   "metadata": {},
   "outputs": [],
   "source": [
    "#full report"
   ]
  },
  {
   "cell_type": "code",
   "execution_count": 22,
   "id": "80c1d29e",
   "metadata": {},
   "outputs": [
    {
     "name": "stdout",
     "output_type": "stream",
     "text": [
      "                            OLS Regression Results                            \n",
      "==============================================================================\n",
      "Dep. Variable:                    fcs   R-squared:                       0.078\n",
      "Model:                            OLS   Adj. R-squared:                  0.076\n",
      "Method:                 Least Squares   F-statistic:                     36.78\n",
      "Date:                Thu, 07 Aug 2025   Prob (F-statistic):           2.88e-09\n",
      "Time:                        22:57:11   Log-Likelihood:                -1819.4\n",
      "No. Observations:                 435   AIC:                             3643.\n",
      "Df Residuals:                     433   BIC:                             3651.\n",
      "Df Model:                           1                                         \n",
      "Covariance Type:            nonrobust                                         \n",
      "==============================================================================\n",
      "                 coef    std err          t      P>|t|      [0.025      0.975]\n",
      "------------------------------------------------------------------------------\n",
      "Intercept     51.2219      1.194     42.895      0.000      48.875      53.569\n",
      "hh_income      0.0004   5.84e-05      6.065      0.000       0.000       0.000\n",
      "==============================================================================\n",
      "Omnibus:                        4.009   Durbin-Watson:                   1.976\n",
      "Prob(Omnibus):                  0.135   Jarque-Bera (JB):                4.096\n",
      "Skew:                           0.224   Prob(JB):                        0.129\n",
      "Kurtosis:                       2.843   Cond. No.                     3.21e+04\n",
      "==============================================================================\n",
      "\n",
      "Notes:\n",
      "[1] Standard Errors assume that the covariance matrix of the errors is correctly specified.\n",
      "[2] The condition number is large, 3.21e+04. This might indicate that there are\n",
      "strong multicollinearity or other numerical problems.\n"
     ]
    }
   ],
   "source": [
    "print(model.summary())"
   ]
  },
  {
   "cell_type": "code",
   "execution_count": 30,
   "id": "39110f9a",
   "metadata": {},
   "outputs": [],
   "source": [
    "model = smf.ols ('fcs ~ C(gender) + value_chain + C(applied_for_agric_loan) + hhsize + hh_income + total_land', data=simplelinear).fit()"
   ]
  },
  {
   "cell_type": "code",
   "execution_count": 27,
   "id": "147d241e",
   "metadata": {},
   "outputs": [
    {
     "name": "stdout",
     "output_type": "stream",
     "text": [
      "                            OLS Regression Results                            \n",
      "==============================================================================\n",
      "Dep. Variable:                    fcs   R-squared:                       0.129\n",
      "Model:                            OLS   Adj. R-squared:                  0.115\n",
      "Method:                 Least Squares   F-statistic:                     9.021\n",
      "Date:                Thu, 07 Aug 2025   Prob (F-statistic):           2.15e-10\n",
      "Time:                        23:11:25   Log-Likelihood:                -1807.1\n",
      "No. Observations:                 435   AIC:                             3630.\n",
      "Df Residuals:                     427   BIC:                             3663.\n",
      "Df Model:                           7                                         \n",
      "Covariance Type:            nonrobust                                         \n",
      "================================================================================================================\n",
      "                                                   coef    std err          t      P>|t|      [0.025      0.975]\n",
      "----------------------------------------------------------------------------------------------------------------\n",
      "Intercept                                       47.9054      2.429     19.719      0.000      43.130      52.680\n",
      "gender[T.Male]                                   3.6406      1.899      1.917      0.056      -0.092       7.373\n",
      "value_chain[T.Fish production]                   3.0675      2.640      1.162      0.246      -2.121       8.256\n",
      "value_chain[T.Milk and Livestock production]     7.8190      2.748      2.845      0.005       2.417      13.221\n",
      "applied_for_agric_loan[T.Yes]                    0.4113      1.761      0.233      0.815      -3.051       3.873\n",
      "hhsize                                          -0.2694      0.331     -0.813      0.416      -0.920       0.382\n",
      "hh_income                                        0.0002   6.51e-05      3.436      0.001    9.58e-05       0.000\n",
      "total_land                                       1.0233      0.252      4.057      0.000       0.527       1.519\n",
      "==============================================================================\n",
      "Omnibus:                        5.318   Durbin-Watson:                   2.016\n",
      "Prob(Omnibus):                  0.070   Jarque-Bera (JB):                5.178\n",
      "Skew:                           0.229   Prob(JB):                       0.0751\n",
      "Kurtosis:                       2.723   Cond. No.                     8.24e+04\n",
      "==============================================================================\n",
      "\n",
      "Notes:\n",
      "[1] Standard Errors assume that the covariance matrix of the errors is correctly specified.\n",
      "[2] The condition number is large, 8.24e+04. This might indicate that there are\n",
      "strong multicollinearity or other numerical problems.\n"
     ]
    }
   ],
   "source": [
    "print(model.summary())"
   ]
  },
  {
   "cell_type": "code",
   "execution_count": 31,
   "id": "21af77d9",
   "metadata": {},
   "outputs": [],
   "source": [
    "category=simplelinear[\"value_chain\"].value_counts()"
   ]
  },
  {
   "cell_type": "code",
   "execution_count": 32,
   "id": "00af3df8",
   "metadata": {},
   "outputs": [
    {
     "data": {
      "text/plain": [
       "value_chain\n",
       "Crop production                  344\n",
       "Milk and Livestock production     46\n",
       "Fish production                   45\n",
       "Name: count, dtype: int64"
      ]
     },
     "execution_count": 32,
     "metadata": {},
     "output_type": "execute_result"
    }
   ],
   "source": [
    "category"
   ]
  }
 ],
 "metadata": {
  "kernelspec": {
   "display_name": "base",
   "language": "python",
   "name": "python3"
  },
  "language_info": {
   "codemirror_mode": {
    "name": "ipython",
    "version": 3
   },
   "file_extension": ".py",
   "mimetype": "text/x-python",
   "name": "python",
   "nbconvert_exporter": "python",
   "pygments_lexer": "ipython3",
   "version": "3.12.7"
  }
 },
 "nbformat": 4,
 "nbformat_minor": 5
}
