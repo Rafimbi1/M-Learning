{
 "cells": [
  {
   "cell_type": "code",
   "execution_count": 1,
   "id": "eb1430e1",
   "metadata": {},
   "outputs": [],
   "source": [
    "import os"
   ]
  },
  {
   "cell_type": "code",
   "execution_count": 2,
   "id": "efaa47dd",
   "metadata": {},
   "outputs": [],
   "source": [
    "import pandas as pd"
   ]
  },
  {
   "cell_type": "code",
   "execution_count": 3,
   "id": "a373171c",
   "metadata": {},
   "outputs": [
    {
     "name": "stdout",
     "output_type": "stream",
     "text": [
      "c:\\Users\\Rafimbi\\Documents\\RYDAMTAANI\n"
     ]
    }
   ],
   "source": [
    "print(os.getcwd())"
   ]
  },
  {
   "cell_type": "code",
   "execution_count": 7,
   "id": "4c2b1be5",
   "metadata": {},
   "outputs": [],
   "source": [
    "os.chdir(\"C:\\\\Users\\\\Rafimbi\\\\Documents\\\\Python Projects\")"
   ]
  },
  {
   "cell_type": "code",
   "execution_count": 8,
   "id": "69581138",
   "metadata": {},
   "outputs": [
    {
     "data": {
      "text/plain": [
       "'C:\\\\Users\\\\Rafimbi\\\\Documents\\\\Python Projects'"
      ]
     },
     "execution_count": 8,
     "metadata": {},
     "output_type": "execute_result"
    }
   ],
   "source": [
    "os.getcwd()"
   ]
  },
  {
   "cell_type": "code",
   "execution_count": 9,
   "id": "3949de2f",
   "metadata": {},
   "outputs": [],
   "source": [
    "business_data=pd.read_csv(\"Cashcropdata.csv\")"
   ]
  },
  {
   "cell_type": "code",
   "execution_count": 10,
   "id": "9f3f47a5",
   "metadata": {},
   "outputs": [
    {
     "data": {
      "text/html": [
       "<div>\n",
       "<style scoped>\n",
       "    .dataframe tbody tr th:only-of-type {\n",
       "        vertical-align: middle;\n",
       "    }\n",
       "\n",
       "    .dataframe tbody tr th {\n",
       "        vertical-align: top;\n",
       "    }\n",
       "\n",
       "    .dataframe thead th {\n",
       "        text-align: right;\n",
       "    }\n",
       "</style>\n",
       "<table border=\"1\" class=\"dataframe\">\n",
       "  <thead>\n",
       "    <tr style=\"text-align: right;\">\n",
       "      <th></th>\n",
       "      <th>gender</th>\n",
       "      <th>value_chain</th>\n",
       "      <th>county</th>\n",
       "      <th>applied_for_agric_loan</th>\n",
       "      <th>hhsize</th>\n",
       "      <th>hh_income</th>\n",
       "      <th>total_land</th>\n",
       "      <th>fcs</th>\n",
       "    </tr>\n",
       "  </thead>\n",
       "  <tbody>\n",
       "    <tr>\n",
       "      <th>0</th>\n",
       "      <td>Male</td>\n",
       "      <td>Crop production</td>\n",
       "      <td>Embu</td>\n",
       "      <td>No</td>\n",
       "      <td>7</td>\n",
       "      <td>8000</td>\n",
       "      <td>1.00</td>\n",
       "      <td>65.5</td>\n",
       "    </tr>\n",
       "    <tr>\n",
       "      <th>1</th>\n",
       "      <td>Male</td>\n",
       "      <td>Milk and Livestock production</td>\n",
       "      <td>Kiambu</td>\n",
       "      <td>No</td>\n",
       "      <td>2</td>\n",
       "      <td>60000</td>\n",
       "      <td>2.00</td>\n",
       "      <td>81.0</td>\n",
       "    </tr>\n",
       "    <tr>\n",
       "      <th>2</th>\n",
       "      <td>Male</td>\n",
       "      <td>Crop production</td>\n",
       "      <td>Busia</td>\n",
       "      <td>No</td>\n",
       "      <td>7</td>\n",
       "      <td>10000</td>\n",
       "      <td>1.00</td>\n",
       "      <td>50.5</td>\n",
       "    </tr>\n",
       "    <tr>\n",
       "      <th>3</th>\n",
       "      <td>Female</td>\n",
       "      <td>Milk and Livestock production</td>\n",
       "      <td>Kiambu</td>\n",
       "      <td>Yes</td>\n",
       "      <td>2</td>\n",
       "      <td>20000</td>\n",
       "      <td>2.00</td>\n",
       "      <td>83.5</td>\n",
       "    </tr>\n",
       "    <tr>\n",
       "      <th>4</th>\n",
       "      <td>Male</td>\n",
       "      <td>Crop production</td>\n",
       "      <td>Embu</td>\n",
       "      <td>No</td>\n",
       "      <td>2</td>\n",
       "      <td>10000</td>\n",
       "      <td>0.25</td>\n",
       "      <td>36.0</td>\n",
       "    </tr>\n",
       "  </tbody>\n",
       "</table>\n",
       "</div>"
      ],
      "text/plain": [
       "   gender                    value_chain  county applied_for_agric_loan  \\\n",
       "0    Male                Crop production    Embu                     No   \n",
       "1    Male  Milk and Livestock production  Kiambu                     No   \n",
       "2    Male                Crop production   Busia                     No   \n",
       "3  Female  Milk and Livestock production  Kiambu                    Yes   \n",
       "4    Male                Crop production   Embu                      No   \n",
       "\n",
       "   hhsize  hh_income  total_land   fcs  \n",
       "0       7       8000        1.00  65.5  \n",
       "1       2      60000        2.00  81.0  \n",
       "2       7      10000        1.00  50.5  \n",
       "3       2      20000        2.00  83.5  \n",
       "4       2      10000        0.25  36.0  "
      ]
     },
     "execution_count": 10,
     "metadata": {},
     "output_type": "execute_result"
    }
   ],
   "source": [
    "business_data.head()"
   ]
  },
  {
   "cell_type": "code",
   "execution_count": 11,
   "id": "8b75351b",
   "metadata": {},
   "outputs": [
    {
     "data": {
      "text/html": [
       "<div>\n",
       "<style scoped>\n",
       "    .dataframe tbody tr th:only-of-type {\n",
       "        vertical-align: middle;\n",
       "    }\n",
       "\n",
       "    .dataframe tbody tr th {\n",
       "        vertical-align: top;\n",
       "    }\n",
       "\n",
       "    .dataframe thead th {\n",
       "        text-align: right;\n",
       "    }\n",
       "</style>\n",
       "<table border=\"1\" class=\"dataframe\">\n",
       "  <thead>\n",
       "    <tr style=\"text-align: right;\">\n",
       "      <th></th>\n",
       "      <th>gender</th>\n",
       "      <th>value_chain</th>\n",
       "      <th>county</th>\n",
       "      <th>applied_for_agric_loan</th>\n",
       "      <th>hhsize</th>\n",
       "      <th>hh_income</th>\n",
       "      <th>total_land</th>\n",
       "      <th>fcs</th>\n",
       "    </tr>\n",
       "  </thead>\n",
       "  <tbody>\n",
       "    <tr>\n",
       "      <th>0</th>\n",
       "      <td>Male</td>\n",
       "      <td>Crop production</td>\n",
       "      <td>Embu</td>\n",
       "      <td>No</td>\n",
       "      <td>7</td>\n",
       "      <td>8000</td>\n",
       "      <td>1.00</td>\n",
       "      <td>65.5</td>\n",
       "    </tr>\n",
       "    <tr>\n",
       "      <th>1</th>\n",
       "      <td>Male</td>\n",
       "      <td>Milk and Livestock production</td>\n",
       "      <td>Kiambu</td>\n",
       "      <td>No</td>\n",
       "      <td>2</td>\n",
       "      <td>60000</td>\n",
       "      <td>2.00</td>\n",
       "      <td>81.0</td>\n",
       "    </tr>\n",
       "    <tr>\n",
       "      <th>2</th>\n",
       "      <td>Male</td>\n",
       "      <td>Crop production</td>\n",
       "      <td>Busia</td>\n",
       "      <td>No</td>\n",
       "      <td>7</td>\n",
       "      <td>10000</td>\n",
       "      <td>1.00</td>\n",
       "      <td>50.5</td>\n",
       "    </tr>\n",
       "    <tr>\n",
       "      <th>3</th>\n",
       "      <td>Female</td>\n",
       "      <td>Milk and Livestock production</td>\n",
       "      <td>Kiambu</td>\n",
       "      <td>Yes</td>\n",
       "      <td>2</td>\n",
       "      <td>20000</td>\n",
       "      <td>2.00</td>\n",
       "      <td>83.5</td>\n",
       "    </tr>\n",
       "    <tr>\n",
       "      <th>4</th>\n",
       "      <td>Male</td>\n",
       "      <td>Crop production</td>\n",
       "      <td>Embu</td>\n",
       "      <td>No</td>\n",
       "      <td>2</td>\n",
       "      <td>10000</td>\n",
       "      <td>0.25</td>\n",
       "      <td>36.0</td>\n",
       "    </tr>\n",
       "    <tr>\n",
       "      <th>5</th>\n",
       "      <td>Female</td>\n",
       "      <td>Crop production</td>\n",
       "      <td>Machakos</td>\n",
       "      <td>No</td>\n",
       "      <td>5</td>\n",
       "      <td>45000</td>\n",
       "      <td>10.00</td>\n",
       "      <td>81.0</td>\n",
       "    </tr>\n",
       "    <tr>\n",
       "      <th>6</th>\n",
       "      <td>Female</td>\n",
       "      <td>Crop production</td>\n",
       "      <td>Embu</td>\n",
       "      <td>No</td>\n",
       "      <td>3</td>\n",
       "      <td>10000</td>\n",
       "      <td>2.00</td>\n",
       "      <td>59.5</td>\n",
       "    </tr>\n",
       "  </tbody>\n",
       "</table>\n",
       "</div>"
      ],
      "text/plain": [
       "   gender                    value_chain    county applied_for_agric_loan  \\\n",
       "0    Male                Crop production      Embu                     No   \n",
       "1    Male  Milk and Livestock production    Kiambu                     No   \n",
       "2    Male                Crop production     Busia                     No   \n",
       "3  Female  Milk and Livestock production    Kiambu                    Yes   \n",
       "4    Male                Crop production     Embu                      No   \n",
       "5  Female                Crop production  Machakos                     No   \n",
       "6  Female                Crop production      Embu                     No   \n",
       "\n",
       "   hhsize  hh_income  total_land   fcs  \n",
       "0       7       8000        1.00  65.5  \n",
       "1       2      60000        2.00  81.0  \n",
       "2       7      10000        1.00  50.5  \n",
       "3       2      20000        2.00  83.5  \n",
       "4       2      10000        0.25  36.0  \n",
       "5       5      45000       10.00  81.0  \n",
       "6       3      10000        2.00  59.5  "
      ]
     },
     "execution_count": 11,
     "metadata": {},
     "output_type": "execute_result"
    }
   ],
   "source": [
    "business_data.head(7)"
   ]
  },
  {
   "cell_type": "code",
   "execution_count": 12,
   "id": "1c69e2d7",
   "metadata": {},
   "outputs": [
    {
     "data": {
      "text/html": [
       "<div>\n",
       "<style scoped>\n",
       "    .dataframe tbody tr th:only-of-type {\n",
       "        vertical-align: middle;\n",
       "    }\n",
       "\n",
       "    .dataframe tbody tr th {\n",
       "        vertical-align: top;\n",
       "    }\n",
       "\n",
       "    .dataframe thead th {\n",
       "        text-align: right;\n",
       "    }\n",
       "</style>\n",
       "<table border=\"1\" class=\"dataframe\">\n",
       "  <thead>\n",
       "    <tr style=\"text-align: right;\">\n",
       "      <th></th>\n",
       "      <th>gender</th>\n",
       "      <th>value_chain</th>\n",
       "      <th>county</th>\n",
       "      <th>applied_for_agric_loan</th>\n",
       "      <th>hhsize</th>\n",
       "      <th>hh_income</th>\n",
       "      <th>total_land</th>\n",
       "      <th>fcs</th>\n",
       "    </tr>\n",
       "  </thead>\n",
       "  <tbody>\n",
       "    <tr>\n",
       "      <th>432</th>\n",
       "      <td>Male</td>\n",
       "      <td>Fish production</td>\n",
       "      <td>Siaya</td>\n",
       "      <td>No</td>\n",
       "      <td>12</td>\n",
       "      <td>25000</td>\n",
       "      <td>3.0</td>\n",
       "      <td>72.0</td>\n",
       "    </tr>\n",
       "    <tr>\n",
       "      <th>433</th>\n",
       "      <td>Male</td>\n",
       "      <td>Crop production</td>\n",
       "      <td>Makueni</td>\n",
       "      <td>No</td>\n",
       "      <td>6</td>\n",
       "      <td>7000</td>\n",
       "      <td>2.0</td>\n",
       "      <td>58.0</td>\n",
       "    </tr>\n",
       "    <tr>\n",
       "      <th>434</th>\n",
       "      <td>Male</td>\n",
       "      <td>Milk and Livestock production</td>\n",
       "      <td>Kiambu</td>\n",
       "      <td>No</td>\n",
       "      <td>4</td>\n",
       "      <td>25000</td>\n",
       "      <td>1.5</td>\n",
       "      <td>88.5</td>\n",
       "    </tr>\n",
       "  </tbody>\n",
       "</table>\n",
       "</div>"
      ],
      "text/plain": [
       "    gender                    value_chain   county applied_for_agric_loan  \\\n",
       "432   Male                Fish production    Siaya                     No   \n",
       "433   Male                Crop production  Makueni                     No   \n",
       "434   Male  Milk and Livestock production   Kiambu                     No   \n",
       "\n",
       "     hhsize  hh_income  total_land   fcs  \n",
       "432      12      25000         3.0  72.0  \n",
       "433       6       7000         2.0  58.0  \n",
       "434       4      25000         1.5  88.5  "
      ]
     },
     "execution_count": 12,
     "metadata": {},
     "output_type": "execute_result"
    }
   ],
   "source": [
    "business_data.tail(3)"
   ]
  },
  {
   "cell_type": "code",
   "execution_count": 13,
   "id": "383eaca4",
   "metadata": {},
   "outputs": [
    {
     "data": {
      "text/plain": [
       "(435, 8)"
      ]
     },
     "execution_count": 13,
     "metadata": {},
     "output_type": "execute_result"
    }
   ],
   "source": [
    "business_data.shape"
   ]
  },
  {
   "cell_type": "code",
   "execution_count": 15,
   "id": "7e04248e",
   "metadata": {},
   "outputs": [
    {
     "data": {
      "text/html": [
       "<div>\n",
       "<style scoped>\n",
       "    .dataframe tbody tr th:only-of-type {\n",
       "        vertical-align: middle;\n",
       "    }\n",
       "\n",
       "    .dataframe tbody tr th {\n",
       "        vertical-align: top;\n",
       "    }\n",
       "\n",
       "    .dataframe thead th {\n",
       "        text-align: right;\n",
       "    }\n",
       "</style>\n",
       "<table border=\"1\" class=\"dataframe\">\n",
       "  <thead>\n",
       "    <tr style=\"text-align: right;\">\n",
       "      <th></th>\n",
       "      <th>hhsize</th>\n",
       "      <th>hh_income</th>\n",
       "      <th>total_land</th>\n",
       "      <th>fcs</th>\n",
       "    </tr>\n",
       "  </thead>\n",
       "  <tbody>\n",
       "    <tr>\n",
       "      <th>count</th>\n",
       "      <td>435.000000</td>\n",
       "      <td>435.000000</td>\n",
       "      <td>435.000000</td>\n",
       "      <td>435.000000</td>\n",
       "    </tr>\n",
       "    <tr>\n",
       "      <th>mean</th>\n",
       "      <td>5.124138</td>\n",
       "      <td>15752.758621</td>\n",
       "      <td>2.541103</td>\n",
       "      <td>56.797701</td>\n",
       "    </tr>\n",
       "    <tr>\n",
       "      <th>std</th>\n",
       "      <td>2.389154</td>\n",
       "      <td>13071.275865</td>\n",
       "      <td>3.180570</td>\n",
       "      <td>16.535167</td>\n",
       "    </tr>\n",
       "    <tr>\n",
       "      <th>min</th>\n",
       "      <td>1.000000</td>\n",
       "      <td>1000.000000</td>\n",
       "      <td>0.025000</td>\n",
       "      <td>20.000000</td>\n",
       "    </tr>\n",
       "    <tr>\n",
       "      <th>25%</th>\n",
       "      <td>3.500000</td>\n",
       "      <td>5800.000000</td>\n",
       "      <td>1.000000</td>\n",
       "      <td>44.500000</td>\n",
       "    </tr>\n",
       "    <tr>\n",
       "      <th>50%</th>\n",
       "      <td>5.000000</td>\n",
       "      <td>12000.000000</td>\n",
       "      <td>2.000000</td>\n",
       "      <td>56.500000</td>\n",
       "    </tr>\n",
       "    <tr>\n",
       "      <th>75%</th>\n",
       "      <td>7.000000</td>\n",
       "      <td>20000.000000</td>\n",
       "      <td>3.000000</td>\n",
       "      <td>67.000000</td>\n",
       "    </tr>\n",
       "    <tr>\n",
       "      <th>max</th>\n",
       "      <td>14.000000</td>\n",
       "      <td>110000.000000</td>\n",
       "      <td>38.000000</td>\n",
       "      <td>103.000000</td>\n",
       "    </tr>\n",
       "  </tbody>\n",
       "</table>\n",
       "</div>"
      ],
      "text/plain": [
       "           hhsize      hh_income  total_land         fcs\n",
       "count  435.000000     435.000000  435.000000  435.000000\n",
       "mean     5.124138   15752.758621    2.541103   56.797701\n",
       "std      2.389154   13071.275865    3.180570   16.535167\n",
       "min      1.000000    1000.000000    0.025000   20.000000\n",
       "25%      3.500000    5800.000000    1.000000   44.500000\n",
       "50%      5.000000   12000.000000    2.000000   56.500000\n",
       "75%      7.000000   20000.000000    3.000000   67.000000\n",
       "max     14.000000  110000.000000   38.000000  103.000000"
      ]
     },
     "execution_count": 15,
     "metadata": {},
     "output_type": "execute_result"
    }
   ],
   "source": [
    "business_data.describe()"
   ]
  },
  {
   "cell_type": "code",
   "execution_count": 18,
   "id": "c7d80bdc",
   "metadata": {},
   "outputs": [],
   "source": [
    "business_data.to_csv(\"processed_sales.csv, index=False\")"
   ]
  },
  {
   "cell_type": "code",
   "execution_count": 19,
   "id": "34efbf6c",
   "metadata": {},
   "outputs": [
    {
     "name": "stdout",
     "output_type": "stream",
     "text": [
      "processed_sales.csv\n"
     ]
    }
   ],
   "source": [
    "print(\"processed_sales.csv\")"
   ]
  },
  {
   "cell_type": "code",
   "execution_count": 21,
   "id": "b7b7d6c9",
   "metadata": {},
   "outputs": [
    {
     "data": {
      "text/plain": [
       "True"
      ]
     },
     "execution_count": 21,
     "metadata": {},
     "output_type": "execute_result"
    }
   ],
   "source": [
    "#check if file exists\n",
    "os.path.exists(\"processed_sales.csv\")"
   ]
  },
  {
   "cell_type": "code",
   "execution_count": 24,
   "id": "c8ab11e1",
   "metadata": {},
   "outputs": [
    {
     "data": {
      "text/plain": [
       "'C:\\\\Users\\\\Rafimbi\\\\Documents\\\\Python Projects'"
      ]
     },
     "execution_count": 24,
     "metadata": {},
     "output_type": "execute_result"
    }
   ],
   "source": [
    "#To check if file is in the working folder\n",
    "os.getcwd()"
   ]
  }
 ],
 "metadata": {
  "kernelspec": {
   "display_name": "base",
   "language": "python",
   "name": "python3"
  },
  "language_info": {
   "codemirror_mode": {
    "name": "ipython",
    "version": 3
   },
   "file_extension": ".py",
   "mimetype": "text/x-python",
   "name": "python",
   "nbconvert_exporter": "python",
   "pygments_lexer": "ipython3",
   "version": "3.12.7"
  }
 },
 "nbformat": 4,
 "nbformat_minor": 5
}
