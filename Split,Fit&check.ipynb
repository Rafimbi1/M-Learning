{
 "cells": [
  {
   "cell_type": "code",
   "execution_count": 1,
   "id": "2aca8bba",
   "metadata": {},
   "outputs": [],
   "source": [
    "import os\n",
    "import pandas as pd\n",
    "import statsmodels.api as sm\n",
    "import statsmodels.formula.api as smf"
   ]
  },
  {
   "cell_type": "code",
   "execution_count": 3,
   "id": "225add0b",
   "metadata": {},
   "outputs": [
    {
     "data": {
      "text/plain": [
       "'c:\\\\Users\\\\Rafimbi\\\\Documents\\\\RYDAMTAANI'"
      ]
     },
     "execution_count": 3,
     "metadata": {},
     "output_type": "execute_result"
    }
   ],
   "source": [
    "os.getcwd()"
   ]
  },
  {
   "cell_type": "code",
   "execution_count": 6,
   "id": "de8bb99f",
   "metadata": {},
   "outputs": [],
   "source": [
    "os.chdir(\"C:\\\\Users\\\\Rafimbi\\\\Documents\\\\Python Projects\")"
   ]
  },
  {
   "cell_type": "code",
   "execution_count": 7,
   "id": "55a7500c",
   "metadata": {},
   "outputs": [],
   "source": [
    "trainingset = pd.read_excel(\"Cashcropsdata.xlsx\")"
   ]
  },
  {
   "cell_type": "code",
   "execution_count": 20,
   "id": "52eb58a7",
   "metadata": {},
   "outputs": [],
   "source": [
    "# 80% training data\n",
    "train_data = trainingset.sample(frac=0.8, random_state=42)"
   ]
  },
  {
   "cell_type": "code",
   "execution_count": 21,
   "id": "44b9fcf6",
   "metadata": {},
   "outputs": [],
   "source": [
    "# Remaining 20% as testing data\n",
    "test_data = trainingset.drop(train_data.index)"
   ]
  },
  {
   "cell_type": "code",
   "execution_count": 22,
   "id": "efc77794",
   "metadata": {},
   "outputs": [
    {
     "name": "stdout",
     "output_type": "stream",
     "text": [
      "Training set rows: 348\n"
     ]
    }
   ],
   "source": [
    "print(\"Training set rows:\", train_data.shape[0])"
   ]
  },
  {
   "cell_type": "code",
   "execution_count": 23,
   "id": "f0f2627b",
   "metadata": {},
   "outputs": [
    {
     "name": "stdout",
     "output_type": "stream",
     "text": [
      "Testing set rows: 87\n"
     ]
    }
   ],
   "source": [
    "print(\"Testing set rows:\", test_data.shape[0])"
   ]
  },
  {
   "cell_type": "code",
   "execution_count": 24,
   "id": "3d242271",
   "metadata": {},
   "outputs": [],
   "source": [
    "#Fit the model on training data\n",
    "model = smf.ols('fcs ~ C(gender) + value_chain + C(applied_for_agric_loan) + hhsize + hh_income + total_land', data=train_data).fit()"
   ]
  },
  {
   "cell_type": "code",
   "execution_count": 25,
   "id": "afaf25fd",
   "metadata": {},
   "outputs": [
    {
     "name": "stdout",
     "output_type": "stream",
     "text": [
      "                            OLS Regression Results                            \n",
      "==============================================================================\n",
      "Dep. Variable:                    fcs   R-squared:                       0.136\n",
      "Model:                            OLS   Adj. R-squared:                  0.119\n",
      "Method:                 Least Squares   F-statistic:                     7.674\n",
      "Date:                Sun, 10 Aug 2025   Prob (F-statistic):           1.30e-08\n",
      "Time:                        23:26:02   Log-Likelihood:                -1434.5\n",
      "No. Observations:                 348   AIC:                             2885.\n",
      "Df Residuals:                     340   BIC:                             2916.\n",
      "Df Model:                           7                                         \n",
      "Covariance Type:            nonrobust                                         \n",
      "================================================================================================================\n",
      "                                                   coef    std err          t      P>|t|      [0.025      0.975]\n",
      "----------------------------------------------------------------------------------------------------------------\n",
      "Intercept                                       47.3574      2.642     17.923      0.000      42.160      52.555\n",
      "C(gender)[T.Male]                                4.7195      2.034      2.320      0.021       0.718       8.721\n",
      "value_chain[T.Fish production]                   4.2504      2.762      1.539      0.125      -1.181       9.682\n",
      "value_chain[T.Milk and Livestock production]     9.6927      3.033      3.196      0.002       3.727      15.658\n",
      "C(applied_for_agric_loan)[T.Yes]                 0.9506      1.904      0.499      0.618      -2.795       4.697\n",
      "hhsize                                          -0.3851      0.363     -1.062      0.289      -1.098       0.328\n",
      "hh_income                                        0.0002   6.92e-05      2.749      0.006    5.42e-05       0.000\n",
      "total_land                                       0.8547      0.261      3.281      0.001       0.342       1.367\n",
      "==============================================================================\n",
      "Omnibus:                        5.104   Durbin-Watson:                   1.857\n",
      "Prob(Omnibus):                  0.078   Jarque-Bera (JB):                5.181\n",
      "Skew:                           0.296   Prob(JB):                       0.0750\n",
      "Kurtosis:                       2.911   Cond. No.                     8.31e+04\n",
      "==============================================================================\n",
      "\n",
      "Notes:\n",
      "[1] Standard Errors assume that the covariance matrix of the errors is correctly specified.\n",
      "[2] The condition number is large, 8.31e+04. This might indicate that there are\n",
      "strong multicollinearity or other numerical problems.\n"
     ]
    }
   ],
   "source": [
    "#View model summary\n",
    "print(model.summary())"
   ]
  },
  {
   "cell_type": "code",
   "execution_count": 29,
   "id": "7c120d6e",
   "metadata": {},
   "outputs": [
    {
     "data": {
      "text/html": [
       "<div>\n",
       "<style scoped>\n",
       "    .dataframe tbody tr th:only-of-type {\n",
       "        vertical-align: middle;\n",
       "    }\n",
       "\n",
       "    .dataframe tbody tr th {\n",
       "        vertical-align: top;\n",
       "    }\n",
       "\n",
       "    .dataframe thead th {\n",
       "        text-align: right;\n",
       "    }\n",
       "</style>\n",
       "<table border=\"1\" class=\"dataframe\">\n",
       "  <thead>\n",
       "    <tr style=\"text-align: right;\">\n",
       "      <th></th>\n",
       "      <th>gender</th>\n",
       "      <th>value_chain</th>\n",
       "      <th>county</th>\n",
       "      <th>applied_for_agric_loan</th>\n",
       "      <th>hhsize</th>\n",
       "      <th>hh_income</th>\n",
       "      <th>total_land</th>\n",
       "      <th>fcs</th>\n",
       "    </tr>\n",
       "  </thead>\n",
       "  <tbody>\n",
       "    <tr>\n",
       "      <th>0</th>\n",
       "      <td>Male</td>\n",
       "      <td>Crop production</td>\n",
       "      <td>Embu</td>\n",
       "      <td>No</td>\n",
       "      <td>7</td>\n",
       "      <td>8000</td>\n",
       "      <td>1.00</td>\n",
       "      <td>65.5</td>\n",
       "    </tr>\n",
       "    <tr>\n",
       "      <th>1</th>\n",
       "      <td>Male</td>\n",
       "      <td>Milk and Livestock production</td>\n",
       "      <td>Kiambu</td>\n",
       "      <td>No</td>\n",
       "      <td>2</td>\n",
       "      <td>60000</td>\n",
       "      <td>2.00</td>\n",
       "      <td>81.0</td>\n",
       "    </tr>\n",
       "    <tr>\n",
       "      <th>2</th>\n",
       "      <td>Male</td>\n",
       "      <td>Crop production</td>\n",
       "      <td>Busia</td>\n",
       "      <td>No</td>\n",
       "      <td>7</td>\n",
       "      <td>10000</td>\n",
       "      <td>1.00</td>\n",
       "      <td>50.5</td>\n",
       "    </tr>\n",
       "    <tr>\n",
       "      <th>3</th>\n",
       "      <td>Female</td>\n",
       "      <td>Milk and Livestock production</td>\n",
       "      <td>Kiambu</td>\n",
       "      <td>Yes</td>\n",
       "      <td>2</td>\n",
       "      <td>20000</td>\n",
       "      <td>2.00</td>\n",
       "      <td>83.5</td>\n",
       "    </tr>\n",
       "    <tr>\n",
       "      <th>4</th>\n",
       "      <td>Male</td>\n",
       "      <td>Crop production</td>\n",
       "      <td>Embu</td>\n",
       "      <td>No</td>\n",
       "      <td>2</td>\n",
       "      <td>10000</td>\n",
       "      <td>0.25</td>\n",
       "      <td>36.0</td>\n",
       "    </tr>\n",
       "  </tbody>\n",
       "</table>\n",
       "</div>"
      ],
      "text/plain": [
       "   gender                    value_chain  county applied_for_agric_loan  \\\n",
       "0    Male                Crop production    Embu                     No   \n",
       "1    Male  Milk and Livestock production  Kiambu                     No   \n",
       "2    Male                Crop production   Busia                     No   \n",
       "3  Female  Milk and Livestock production  Kiambu                    Yes   \n",
       "4    Male                Crop production   Embu                      No   \n",
       "\n",
       "   hhsize  hh_income  total_land   fcs  \n",
       "0       7       8000        1.00  65.5  \n",
       "1       2      60000        2.00  81.0  \n",
       "2       7      10000        1.00  50.5  \n",
       "3       2      20000        2.00  83.5  \n",
       "4       2      10000        0.25  36.0  "
      ]
     },
     "execution_count": 29,
     "metadata": {},
     "output_type": "execute_result"
    }
   ],
   "source": [
    "trainingset.head()"
   ]
  },
  {
   "cell_type": "code",
   "execution_count": 30,
   "id": "a098da8a",
   "metadata": {},
   "outputs": [
    {
     "name": "stdout",
     "output_type": "stream",
     "text": [
      "training set rows: 348\n"
     ]
    }
   ],
   "source": [
    "print(\"training set rows:\", train_data.shape[0])"
   ]
  },
  {
   "cell_type": "code",
   "execution_count": 33,
   "id": "5e26924e",
   "metadata": {},
   "outputs": [
    {
     "data": {
      "text/plain": [
       "348"
      ]
     },
     "execution_count": 33,
     "metadata": {},
     "output_type": "execute_result"
    }
   ],
   "source": [
    "train_data.index.to_list()  # This line is just to ensure the index is printed, if needed.\n",
    "len(train_data.index)  # This line is just to ensure the length of the training data is printed, if needed.\n"
   ]
  },
  {
   "cell_type": "code",
   "execution_count": 34,
   "id": "c536aab2",
   "metadata": {},
   "outputs": [
    {
     "name": "stdout",
     "output_type": "stream",
     "text": [
      "0.8\n"
     ]
    }
   ],
   "source": [
    "print(348/435)"
   ]
  },
  {
   "cell_type": "code",
   "execution_count": 35,
   "id": "63b711b2",
   "metadata": {},
   "outputs": [],
   "source": [
    "#calculate MSE \n",
    "from sklearn.metrics import mean_squared_error\n"
   ]
  },
  {
   "cell_type": "code",
   "execution_count": 36,
   "id": "fb89cbc8",
   "metadata": {},
   "outputs": [],
   "source": [
    "mse= mean_squared_error(test_data['fcs'], model.predict(test_data))"
   ]
  },
  {
   "cell_type": "code",
   "execution_count": 37,
   "id": "4856a25b",
   "metadata": {},
   "outputs": [],
   "source": [
    "#calculate Root mean squared error RMSE\n",
    "rmse = mse ** 0.5"
   ]
  },
  {
   "cell_type": "code",
   "execution_count": 38,
   "id": "a5b52c53",
   "metadata": {},
   "outputs": [],
   "source": [
    "#calculate R-Squared\n",
    "r_squared = model.rsquared"
   ]
  },
  {
   "cell_type": "code",
   "execution_count": 39,
   "id": "b7920428",
   "metadata": {},
   "outputs": [
    {
     "name": "stdout",
     "output_type": "stream",
     "text": [
      "17.471924230978914\n"
     ]
    }
   ],
   "source": [
    "print(rmse)"
   ]
  },
  {
   "cell_type": "code",
   "execution_count": 40,
   "id": "4168fd1b",
   "metadata": {},
   "outputs": [
    {
     "name": "stdout",
     "output_type": "stream",
     "text": [
      "305.2681363330681\n"
     ]
    }
   ],
   "source": [
    "print(mse)"
   ]
  },
  {
   "cell_type": "code",
   "execution_count": 42,
   "id": "deb0d713",
   "metadata": {},
   "outputs": [
    {
     "name": "stdout",
     "output_type": "stream",
     "text": [
      "0.1364407588221087\n"
     ]
    }
   ],
   "source": [
    "print(r_squared)"
   ]
  }
 ],
 "metadata": {
  "kernelspec": {
   "display_name": "base",
   "language": "python",
   "name": "python3"
  },
  "language_info": {
   "codemirror_mode": {
    "name": "ipython",
    "version": 3
   },
   "file_extension": ".py",
   "mimetype": "text/x-python",
   "name": "python",
   "nbconvert_exporter": "python",
   "pygments_lexer": "ipython3",
   "version": "3.12.7"
  }
 },
 "nbformat": 4,
 "nbformat_minor": 5
}
