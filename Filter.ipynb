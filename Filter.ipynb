{
 "cells": [
  {
   "cell_type": "code",
   "execution_count": 1,
   "id": "14be86d2",
   "metadata": {},
   "outputs": [],
   "source": [
    "#filter() earnings ≥ 500 KES.\n",
    "#map() converts each value from KES to USD\n",
    "#reduce() adds up all USD values to get the monthly total.\n",
    "\n",
    "daily_earnings_kes = [450, 350, 1100, 1300, 550, 600, 480, 1000, 1500, 700, 450, 200, 1400]"
   ]
  },
  {
   "cell_type": "code",
   "execution_count": 2,
   "id": "7dcfc796",
   "metadata": {},
   "outputs": [],
   "source": [
    "valid_earnings = list(filter(lambda x: x >= 500, daily_earnings_kes))"
   ]
  },
  {
   "cell_type": "code",
   "execution_count": 3,
   "id": "259182b5",
   "metadata": {},
   "outputs": [],
   "source": [
    "#Convert to USD (1 USD = 130 KES)\n",
    "earnings_usd = list(map(lambda x: round(x / 130, 2), valid_earnings))"
   ]
  },
  {
   "cell_type": "code",
   "execution_count": 12,
   "id": "b8c87b47",
   "metadata": {},
   "outputs": [],
   "source": [
    "\n",
    "from functools import reduce\n",
    "\n",
    "#Step 4: Calculate total USD earnings using reduce\n",
    "total_usd = round(reduce(lambda x, y: x + y, earnings_usd), 2)"
   ]
  },
  {
   "cell_type": "code",
   "execution_count": 13,
   "id": "5babba8d",
   "metadata": {},
   "outputs": [
    {
     "name": "stdout",
     "output_type": "stream",
     "text": [
      "Valid daily earnings in KES: [1100, 1300, 550, 600, 1000, 1500, 700, 1400]\n"
     ]
    }
   ],
   "source": [
    "# Output\n",
    "print(\"Valid daily earnings in KES:\", valid_earnings)"
   ]
  },
  {
   "cell_type": "code",
   "execution_count": 14,
   "id": "974ddb79",
   "metadata": {},
   "outputs": [
    {
     "name": "stdout",
     "output_type": "stream",
     "text": [
      "Converted daily earnings in USD: [8.46, 10.0, 4.23, 4.62, 7.69, 11.54, 5.38, 10.77]\n"
     ]
    }
   ],
   "source": [
    "print(\"Converted daily earnings in USD:\", earnings_usd)"
   ]
  },
  {
   "cell_type": "code",
   "execution_count": 15,
   "id": "02db576d",
   "metadata": {},
   "outputs": [
    {
     "name": "stdout",
     "output_type": "stream",
     "text": [
      "Total monthly earnings in USD: 62.69\n"
     ]
    }
   ],
   "source": [
    "print(\"Total monthly earnings in USD:\", total_usd)"
   ]
  }
 ],
 "metadata": {
  "kernelspec": {
   "display_name": "Python 3",
   "language": "python",
   "name": "python3"
  },
  "language_info": {
   "codemirror_mode": {
    "name": "ipython",
    "version": 3
   },
   "file_extension": ".py",
   "mimetype": "text/x-python",
   "name": "python",
   "nbconvert_exporter": "python",
   "pygments_lexer": "ipython3",
   "version": "3.13.3"
  }
 },
 "nbformat": 4,
 "nbformat_minor": 5
}
