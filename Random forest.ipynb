{
 "cells": [
  {
   "cell_type": "code",
   "execution_count": 1,
   "id": "bdd1347c",
   "metadata": {},
   "outputs": [],
   "source": [
    "import os\n",
    "import pandas as pd\n",
    "import statsmodels.api as sm\n",
    "import statsmodels.formula.api as smf"
   ]
  },
  {
   "cell_type": "code",
   "execution_count": 3,
   "id": "8bacba0f",
   "metadata": {},
   "outputs": [
    {
     "data": {
      "text/plain": [
       "'c:\\\\Users\\\\Rafimbi\\\\Documents\\\\M-learning'"
      ]
     },
     "execution_count": 3,
     "metadata": {},
     "output_type": "execute_result"
    }
   ],
   "source": [
    "os.getcwd()  # Get the current working directory"
   ]
  },
  {
   "cell_type": "code",
   "execution_count": 13,
   "id": "3da85554",
   "metadata": {},
   "outputs": [],
   "source": [
    "# Replace 'your_file.xlsx' with the actual Excel file name in the directory\n",
    "randomforest = pd.read_excel(\"C:\\\\Users\\\\Rafimbi\\\\Documents\\\\Python Projects\\\\Cashcropsdata.xlsx\")"
   ]
  },
  {
   "cell_type": "code",
   "execution_count": 16,
   "id": "eb8f8b27",
   "metadata": {},
   "outputs": [],
   "source": [
    "#Drop missing values in relevant columns\n",
    "randomforest = randomforest[['fcs','gender','value_chain','county','applied_for_agric_loan','hhsize','hh_income','total_land']].dropna()"
   ]
  },
  {
   "cell_type": "code",
   "execution_count": 19,
   "id": "14a7e7ec",
   "metadata": {},
   "outputs": [
    {
     "data": {
      "text/html": [
       "<div>\n",
       "<style scoped>\n",
       "    .dataframe tbody tr th:only-of-type {\n",
       "        vertical-align: middle;\n",
       "    }\n",
       "\n",
       "    .dataframe tbody tr th {\n",
       "        vertical-align: top;\n",
       "    }\n",
       "\n",
       "    .dataframe thead th {\n",
       "        text-align: right;\n",
       "    }\n",
       "</style>\n",
       "<table border=\"1\" class=\"dataframe\">\n",
       "  <thead>\n",
       "    <tr style=\"text-align: right;\">\n",
       "      <th></th>\n",
       "      <th>fcs</th>\n",
       "      <th>gender</th>\n",
       "      <th>value_chain</th>\n",
       "      <th>county</th>\n",
       "      <th>applied_for_agric_loan</th>\n",
       "      <th>hhsize</th>\n",
       "      <th>hh_income</th>\n",
       "      <th>total_land</th>\n",
       "    </tr>\n",
       "  </thead>\n",
       "  <tbody>\n",
       "    <tr>\n",
       "      <th>0</th>\n",
       "      <td>65.5</td>\n",
       "      <td>Male</td>\n",
       "      <td>Crop production</td>\n",
       "      <td>Embu</td>\n",
       "      <td>No</td>\n",
       "      <td>7</td>\n",
       "      <td>8000</td>\n",
       "      <td>1.00</td>\n",
       "    </tr>\n",
       "    <tr>\n",
       "      <th>1</th>\n",
       "      <td>81.0</td>\n",
       "      <td>Male</td>\n",
       "      <td>Milk and Livestock production</td>\n",
       "      <td>Kiambu</td>\n",
       "      <td>No</td>\n",
       "      <td>2</td>\n",
       "      <td>60000</td>\n",
       "      <td>2.00</td>\n",
       "    </tr>\n",
       "    <tr>\n",
       "      <th>2</th>\n",
       "      <td>50.5</td>\n",
       "      <td>Male</td>\n",
       "      <td>Crop production</td>\n",
       "      <td>Busia</td>\n",
       "      <td>No</td>\n",
       "      <td>7</td>\n",
       "      <td>10000</td>\n",
       "      <td>1.00</td>\n",
       "    </tr>\n",
       "    <tr>\n",
       "      <th>3</th>\n",
       "      <td>83.5</td>\n",
       "      <td>Female</td>\n",
       "      <td>Milk and Livestock production</td>\n",
       "      <td>Kiambu</td>\n",
       "      <td>Yes</td>\n",
       "      <td>2</td>\n",
       "      <td>20000</td>\n",
       "      <td>2.00</td>\n",
       "    </tr>\n",
       "    <tr>\n",
       "      <th>4</th>\n",
       "      <td>36.0</td>\n",
       "      <td>Male</td>\n",
       "      <td>Crop production</td>\n",
       "      <td>Embu</td>\n",
       "      <td>No</td>\n",
       "      <td>2</td>\n",
       "      <td>10000</td>\n",
       "      <td>0.25</td>\n",
       "    </tr>\n",
       "  </tbody>\n",
       "</table>\n",
       "</div>"
      ],
      "text/plain": [
       "    fcs  gender                    value_chain  ... hhsize hh_income  total_land\n",
       "0  65.5    Male                Crop production  ...      7      8000        1.00\n",
       "1  81.0    Male  Milk and Livestock production  ...      2     60000        2.00\n",
       "2  50.5    Male                Crop production  ...      7     10000        1.00\n",
       "3  83.5  Female  Milk and Livestock production  ...      2     20000        2.00\n",
       "4  36.0    Male                Crop production  ...      2     10000        0.25\n",
       "\n",
       "[5 rows x 8 columns]"
      ]
     },
     "execution_count": 19,
     "metadata": {},
     "output_type": "execute_result"
    }
   ],
   "source": [
    "(randomforest.head())"
   ]
  },
  {
   "cell_type": "code",
   "execution_count": 20,
   "id": "82c232ec",
   "metadata": {},
   "outputs": [],
   "source": [
    "#Fit regression model\n",
    "formula = 'fcs ~ C(gender) + C(value_chain) + C(county) + C(applied_for_agric_loan) + hhsize + hh_income + total_land'\n",
    "model = smf.ols(formula=formula, data=randomforest).fit()"
   ]
  },
  {
   "cell_type": "code",
   "execution_count": 21,
   "id": "15e85826",
   "metadata": {},
   "outputs": [
    {
     "name": "stdout",
     "output_type": "stream",
     "text": [
      "                            OLS Regression Results                            \n",
      "==============================================================================\n",
      "Dep. Variable:                    fcs   R-squared:                       0.188\n",
      "Model:                            OLS   Adj. R-squared:                  0.157\n",
      "Method:                 Least Squares   F-statistic:                     6.065\n",
      "Date:                Sun, 17 Aug 2025   Prob (F-statistic):           4.35e-12\n",
      "Time:                        20:32:07   Log-Likelihood:                -1791.7\n",
      "No. Observations:                 435   AIC:                             3617.\n",
      "Df Residuals:                     418   BIC:                             3687.\n",
      "Df Model:                          16                                         \n",
      "Covariance Type:            nonrobust                                         \n",
      "===================================================================================================================\n",
      "                                                      coef    std err          t      P>|t|      [0.025      0.975]\n",
      "-------------------------------------------------------------------------------------------------------------------\n",
      "Intercept                                          40.5425      3.564     11.376      0.000      33.537      47.548\n",
      "C(gender)[T.Male]                                   2.7979      1.880      1.488      0.137      -0.898       6.494\n",
      "C(value_chain)[T.Fish production]                  -2.3243      3.145     -0.739      0.460      -8.507       3.859\n",
      "C(value_chain)[T.Milk and Livestock production]     2.4240      4.146      0.585      0.559      -5.726      10.575\n",
      "C(county)[T.Embu]                                   9.5233      3.075      3.097      0.002       3.479      15.568\n",
      "C(county)[T.Embu ]                                  9.3040      8.092      1.150      0.251      -6.603      25.211\n",
      "C(county)[T.Kiambu]                                14.4411      4.032      3.581      0.000       6.515      22.367\n",
      "C(county)[T.Kiambu ]                              -12.0171      7.268     -1.653      0.099     -26.303       2.269\n",
      "C(county)[T.Kirinyaga]                              7.7961      3.725      2.093      0.037       0.473      15.119\n",
      "C(county)[T.Kisumu]                                 6.9324      3.211      2.159      0.031       0.620      13.245\n",
      "C(county)[T.Kisumu ]                               -4.7460     15.506     -0.306      0.760     -35.226      25.734\n",
      "C(county)[T.Machakos]                               2.1767      3.577      0.609      0.543      -4.854       9.207\n",
      "C(county)[T.Makueni]                                7.7274      3.426      2.256      0.025       0.994      14.461\n",
      "C(county)[T.Siaya]                                 13.4355      3.216      4.178      0.000       7.114      19.757\n",
      "C(applied_for_agric_loan)[T.Yes]                    1.4103      1.766      0.798      0.425      -2.062       4.882\n",
      "hhsize                                             -0.1720      0.363     -0.474      0.636      -0.886       0.542\n",
      "hh_income                                           0.0002   6.51e-05      3.099      0.002    7.38e-05       0.000\n",
      "total_land                                          1.1623      0.268      4.334      0.000       0.635       1.690\n",
      "==============================================================================\n",
      "Omnibus:                        4.862   Durbin-Watson:                   2.026\n",
      "Prob(Omnibus):                  0.088   Jarque-Bera (JB):                3.880\n",
      "Skew:                           0.126   Prob(JB):                        0.144\n",
      "Kurtosis:                       2.611   Cond. No.                     5.77e+20\n",
      "==============================================================================\n",
      "\n",
      "Notes:\n",
      "[1] Standard Errors assume that the covariance matrix of the errors is correctly specified.\n",
      "[2] The smallest eigenvalue is 5.47e-31. This might indicate that there are\n",
      "strong multicollinearity problems or that the design matrix is singular.\n"
     ]
    }
   ],
   "source": [
    "#Print summary\n",
    "print(model.summary())"
   ]
  },
  {
   "cell_type": "code",
   "execution_count": 22,
   "id": "d9c6de09",
   "metadata": {},
   "outputs": [
    {
     "name": "stdout",
     "output_type": "stream",
     "text": [
      "R² Score: 0.18841459301179864\n"
     ]
    }
   ],
   "source": [
    "#R²\n",
    "print(\"R² Score:\", model.rsquared)"
   ]
  },
  {
   "cell_type": "code",
   "execution_count": 23,
   "id": "ccf3ba89",
   "metadata": {},
   "outputs": [
    {
     "name": "stdout",
     "output_type": "stream",
     "text": [
      "MSE: 221.38687502825582\n"
     ]
    }
   ],
   "source": [
    "#Mean Squared Error (MSE)\n",
    "y_pred = model.fittedvalues   # predictions\n",
    "y_true = model.model.endog    # actual values\n",
    "mse = ((y_true - y_pred) ** 2).mean()\n",
    "print(\"MSE:\", mse)"
   ]
  }
 ],
 "metadata": {
  "kernelspec": {
   "display_name": "Python 3",
   "language": "python",
   "name": "python3"
  },
  "language_info": {
   "codemirror_mode": {
    "name": "ipython",
    "version": 3
   },
   "file_extension": ".py",
   "mimetype": "text/x-python",
   "name": "python",
   "nbconvert_exporter": "python",
   "pygments_lexer": "ipython3",
   "version": "3.13.3"
  }
 },
 "nbformat": 4,
 "nbformat_minor": 5
}
