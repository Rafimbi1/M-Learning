{
 "cells": [
  {
   "cell_type": "code",
   "execution_count": 1,
   "id": "8ebe3a62",
   "metadata": {},
   "outputs": [],
   "source": [
    "#model fcs using the independent variables: hh_income, total_land, and hhsize.\n",
    "import os\n",
    "import pandas as pd\n",
    "import statsmodels.api as sm\n",
    "import statsmodels.formula.api as smf"
   ]
  },
  {
   "cell_type": "code",
   "execution_count": 2,
   "id": "bfee81b1",
   "metadata": {},
   "outputs": [
    {
     "data": {
      "text/plain": [
       "'c:\\\\Users\\\\Rafimbi\\\\Documents\\\\M-learning'"
      ]
     },
     "execution_count": 2,
     "metadata": {},
     "output_type": "execute_result"
    }
   ],
   "source": [
    "os.getcwd()"
   ]
  },
  {
   "cell_type": "code",
   "execution_count": 3,
   "id": "8dfefc26",
   "metadata": {},
   "outputs": [],
   "source": [
    "refresher = pd.read_excel(\"C:\\\\Users\\\\Rafimbi\\\\Documents\\\\Python Projects\\\\Cashcropsdata.xlsx\")"
   ]
  },
  {
   "cell_type": "code",
   "execution_count": 4,
   "id": "bb9b0b5b",
   "metadata": {},
   "outputs": [
    {
     "data": {
      "text/html": [
       "<div>\n",
       "<style scoped>\n",
       "    .dataframe tbody tr th:only-of-type {\n",
       "        vertical-align: middle;\n",
       "    }\n",
       "\n",
       "    .dataframe tbody tr th {\n",
       "        vertical-align: top;\n",
       "    }\n",
       "\n",
       "    .dataframe thead th {\n",
       "        text-align: right;\n",
       "    }\n",
       "</style>\n",
       "<table border=\"1\" class=\"dataframe\">\n",
       "  <thead>\n",
       "    <tr style=\"text-align: right;\">\n",
       "      <th></th>\n",
       "      <th>gender</th>\n",
       "      <th>value_chain</th>\n",
       "      <th>county</th>\n",
       "      <th>applied_for_agric_loan</th>\n",
       "      <th>hhsize</th>\n",
       "      <th>hh_income</th>\n",
       "      <th>total_land</th>\n",
       "      <th>fcs</th>\n",
       "    </tr>\n",
       "  </thead>\n",
       "  <tbody>\n",
       "    <tr>\n",
       "      <th>0</th>\n",
       "      <td>Male</td>\n",
       "      <td>Crop production</td>\n",
       "      <td>Embu</td>\n",
       "      <td>No</td>\n",
       "      <td>7</td>\n",
       "      <td>8000</td>\n",
       "      <td>1.00</td>\n",
       "      <td>65.5</td>\n",
       "    </tr>\n",
       "    <tr>\n",
       "      <th>1</th>\n",
       "      <td>Male</td>\n",
       "      <td>Milk and Livestock production</td>\n",
       "      <td>Kiambu</td>\n",
       "      <td>No</td>\n",
       "      <td>2</td>\n",
       "      <td>60000</td>\n",
       "      <td>2.00</td>\n",
       "      <td>81.0</td>\n",
       "    </tr>\n",
       "    <tr>\n",
       "      <th>2</th>\n",
       "      <td>Male</td>\n",
       "      <td>Crop production</td>\n",
       "      <td>Busia</td>\n",
       "      <td>No</td>\n",
       "      <td>7</td>\n",
       "      <td>10000</td>\n",
       "      <td>1.00</td>\n",
       "      <td>50.5</td>\n",
       "    </tr>\n",
       "    <tr>\n",
       "      <th>3</th>\n",
       "      <td>Female</td>\n",
       "      <td>Milk and Livestock production</td>\n",
       "      <td>Kiambu</td>\n",
       "      <td>Yes</td>\n",
       "      <td>2</td>\n",
       "      <td>20000</td>\n",
       "      <td>2.00</td>\n",
       "      <td>83.5</td>\n",
       "    </tr>\n",
       "    <tr>\n",
       "      <th>4</th>\n",
       "      <td>Male</td>\n",
       "      <td>Crop production</td>\n",
       "      <td>Embu</td>\n",
       "      <td>No</td>\n",
       "      <td>2</td>\n",
       "      <td>10000</td>\n",
       "      <td>0.25</td>\n",
       "      <td>36.0</td>\n",
       "    </tr>\n",
       "  </tbody>\n",
       "</table>\n",
       "</div>"
      ],
      "text/plain": [
       "   gender                    value_chain  county applied_for_agric_loan  \\\n",
       "0    Male                Crop production    Embu                     No   \n",
       "1    Male  Milk and Livestock production  Kiambu                     No   \n",
       "2    Male                Crop production   Busia                     No   \n",
       "3  Female  Milk and Livestock production  Kiambu                    Yes   \n",
       "4    Male                Crop production   Embu                      No   \n",
       "\n",
       "   hhsize  hh_income  total_land   fcs  \n",
       "0       7       8000        1.00  65.5  \n",
       "1       2      60000        2.00  81.0  \n",
       "2       7      10000        1.00  50.5  \n",
       "3       2      20000        2.00  83.5  \n",
       "4       2      10000        0.25  36.0  "
      ]
     },
     "execution_count": 4,
     "metadata": {},
     "output_type": "execute_result"
    }
   ],
   "source": [
    "refresher.head()"
   ]
  },
  {
   "cell_type": "code",
   "execution_count": 5,
   "id": "1663030e",
   "metadata": {},
   "outputs": [],
   "source": [
    "model = smf.ols (\"fcs ~ C(gender) + value_chain + hhsize\", data=refresher).fit()"
   ]
  },
  {
   "cell_type": "code",
   "execution_count": 6,
   "id": "9322638f",
   "metadata": {},
   "outputs": [
    {
     "name": "stdout",
     "output_type": "stream",
     "text": [
      "                            OLS Regression Results                            \n",
      "==============================================================================\n",
      "Dep. Variable:                    fcs   R-squared:                       0.049\n",
      "Model:                            OLS   Adj. R-squared:                  0.040\n",
      "Method:                 Least Squares   F-statistic:                     5.567\n",
      "Date:                Fri, 22 Aug 2025   Prob (F-statistic):           0.000224\n",
      "Time:                        22:59:07   Log-Likelihood:                -1826.1\n",
      "No. Observations:                 435   AIC:                             3662.\n",
      "Df Residuals:                     430   BIC:                             3683.\n",
      "Df Model:                           4                                         \n",
      "Covariance Type:            nonrobust                                         \n",
      "================================================================================================================\n",
      "                                                   coef    std err          t      P>|t|      [0.025      0.975]\n",
      "----------------------------------------------------------------------------------------------------------------\n",
      "Intercept                                       51.5527      2.407     21.422      0.000      46.823      56.283\n",
      "C(gender)[T.Male]                                5.2458      1.958      2.679      0.008       1.397       9.094\n",
      "value_chain[T.Fish production]                   3.8268      2.633      1.454      0.147      -1.348       9.001\n",
      "value_chain[T.Milk and Livestock production]     9.9074      2.594      3.819      0.000       4.808      15.007\n",
      "hhsize                                          -0.0748      0.341     -0.219      0.827      -0.745       0.596\n",
      "==============================================================================\n",
      "Omnibus:                        6.876   Durbin-Watson:                   2.005\n",
      "Prob(Omnibus):                  0.032   Jarque-Bera (JB):                5.950\n",
      "Skew:                           0.213   Prob(JB):                       0.0510\n",
      "Kurtosis:                       2.617   Cond. No.                         22.5\n",
      "==============================================================================\n",
      "\n",
      "Notes:\n",
      "[1] Standard Errors assume that the covariance matrix of the errors is correctly specified.\n"
     ]
    }
   ],
   "source": [
    "print(model.summary())"
   ]
  }
 ],
 "metadata": {
  "kernelspec": {
   "display_name": "Python 3",
   "language": "python",
   "name": "python3"
  },
  "language_info": {
   "codemirror_mode": {
    "name": "ipython",
    "version": 3
   },
   "file_extension": ".py",
   "mimetype": "text/x-python",
   "name": "python",
   "nbconvert_exporter": "python",
   "pygments_lexer": "ipython3",
   "version": "3.13.3"
  }
 },
 "nbformat": 4,
 "nbformat_minor": 5
}
